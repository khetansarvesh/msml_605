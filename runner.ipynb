{
 "cells": [
  {
   "cell_type": "markdown",
   "metadata": {},
   "source": [
    "If you opt not to implement resizing, discuss its possible limitations in your report.\n"
   ]
  },
  {
   "cell_type": "code",
   "execution_count": null,
   "metadata": {},
   "outputs": [],
   "source": [
    "import time\n",
    "import random\n",
    "import matplotlib.pyplot as plt\n",
    "import csv\n",
    "import heapq"
   ]
  },
  {
   "cell_type": "markdown",
   "metadata": {},
   "source": [
    "# Part 1 : Implementing Hash Table"
   ]
  },
  {
   "cell_type": "code",
   "execution_count": null,
   "metadata": {},
   "outputs": [],
   "source": [
    "class HashMap:\n",
    "\n",
    "    def __init__(self, size=10, hash_method=\"division\"):\n",
    "        self.size = size\n",
    "        self.count = 0\n",
    "        self.table = [[] for _ in range(size)]  # Initialize empty lists for chaining\n",
    "        self.hash_method = hash_method\n",
    "        \n",
    "        # For multiplication method\n",
    "        self.A = 0.6180339887  # Golden ratio constant\n",
    "\n",
    "    def hash_function(self, key):\n",
    "        # Convert key to a hashable integer if it's not already\n",
    "        if not isinstance(key, int):\n",
    "            # Simple string to int conversion for demonstration\n",
    "            if isinstance(key, str):\n",
    "                key_sum = sum(ord(c) for c in key)\n",
    "            else:\n",
    "                key_sum = hash(key)\n",
    "        else:\n",
    "            key_sum = key\n",
    "            \n",
    "        if self.hash_method == \"division\":\n",
    "            return key_sum % self.size\n",
    "        elif self.hash_method == \"multiplication\":\n",
    "            # Multiplication method: h(k) = floor(m * (k * A mod 1))\n",
    "            return int(self.size * ((key_sum * self.A) % 1))\n",
    "\n",
    "    def insert(self, key, value):\n",
    "        index = self.hash_function(key)\n",
    "        \n",
    "        # Check if key already exists\n",
    "        for i, (k, v) in enumerate(self.table[index]):\n",
    "            if k == key:\n",
    "                self.table[index][i] = (key, value)  # Update value\n",
    "                return\n",
    "        \n",
    "        # Key doesn't exist, add new key-value pair\n",
    "        self.table[index].append((key, value))\n",
    "        self.count += 1\n",
    "\n",
    "    def search(self, key):\n",
    "        index = self.hash_function(key)\n",
    "    \n",
    "        # Search in the chain at the index\n",
    "        for k, v in self.table[index]:\n",
    "            if k == key:\n",
    "                return v\n",
    "        return None  # Key not found\n",
    "\n",
    "    def delete(self, key):\n",
    "        index = self.hash_function(key)\n",
    "        \n",
    "        # Find and remove key in the chain\n",
    "        for i, (k, v) in enumerate(self.table[index]):\n",
    "            if k == key:\n",
    "                self.table[index].pop(i)\n",
    "                self.count -= 1\n",
    "                return True\n",
    "        return False  # Key not found\n",
    "    \n",
    "    def get_memory_stats(self):\n",
    "        chain_lengths = [len(bucket) for bucket in self.table]\n",
    "        return {\n",
    "            \"avg_chain_length\": sum(chain_lengths) / self.size,\n",
    "            \"max_chain_length\": max(chain_lengths) if chain_lengths else 0\n",
    "        }"
   ]
  },
  {
   "cell_type": "code",
   "execution_count": 12,
   "metadata": {},
   "outputs": [],
   "source": [
    "# Create a hash table\n",
    "ht = HashMap(size=100, hash_method=\"division\")"
   ]
  },
  {
   "cell_type": "code",
   "execution_count": 13,
   "metadata": {},
   "outputs": [],
   "source": [
    "# Insert some key-value pairs\n",
    "for i in range(70):  # 70% load factor\n",
    "    ht.insert(i, f\"value-{i}\")"
   ]
  },
  {
   "cell_type": "code",
   "execution_count": 14,
   "metadata": {},
   "outputs": [
    {
     "name": "stdout",
     "output_type": "stream",
     "text": [
      "value-50\n"
     ]
    }
   ],
   "source": [
    "# Searching a key\n",
    "print(ht.search(50))"
   ]
  },
  {
   "cell_type": "code",
   "execution_count": 15,
   "metadata": {},
   "outputs": [
    {
     "data": {
      "text/plain": [
       "True"
      ]
     },
     "execution_count": 15,
     "metadata": {},
     "output_type": "execute_result"
    }
   ],
   "source": [
    "# Delete a key\n",
    "ht.delete(50)"
   ]
  },
  {
   "cell_type": "code",
   "execution_count": 16,
   "metadata": {},
   "outputs": [
    {
     "name": "stdout",
     "output_type": "stream",
     "text": [
      "None\n"
     ]
    }
   ],
   "source": [
    "# searching a key\n",
    "print(ht.search(50))"
   ]
  },
  {
   "cell_type": "markdown",
   "metadata": {},
   "source": [
    "## Load factor vs. lookup time (fix 2-3 table sizes)"
   ]
  },
  {
   "cell_type": "markdown",
   "metadata": {},
   "source": [
    "- Plot load factor vs. average search time across different table sizes\n",
    "- Use both successful and unsuccessful searches to evaluate worst-case performance\n",
    "- Measure average search time for a randomly selected key"
   ]
  },
  {
   "cell_type": "code",
   "execution_count": 26,
   "metadata": {},
   "outputs": [],
   "source": [
    "def measure_search_time(hash_table, keys, num_samples=100):\n",
    "    \"\"\"Measure average search time for random keys\"\"\"\n",
    "    total_time = 0\n",
    "    sample_keys = random.sample(keys, min(num_samples, len(keys)))\n",
    "    \n",
    "    for key in sample_keys:\n",
    "        start_time = time.time()\n",
    "        hash_table.search(key)\n",
    "        end_time = time.time()\n",
    "        total_time += (end_time - start_time)\n",
    "    \n",
    "    return total_time / len(sample_keys)"
   ]
  },
  {
   "cell_type": "code",
   "execution_count": 27,
   "metadata": {},
   "outputs": [],
   "source": [
    "results = {}\n",
    "key_count=1000\n",
    "max_load=0.9\n",
    "\n",
    "for size in [500, 1000, 2000]:\n",
    "    load_factors = []\n",
    "    search_times = []\n",
    "    \n",
    "    hash_table = HashMap(size=size)\n",
    "    keys = list(range(key_count))\n",
    "    \n",
    "    # Insert keys incrementally and measure at different load factors\n",
    "    for i in range(0, key_count, key_count//10):\n",
    "        if i == 0:\n",
    "            continue\n",
    "            \n",
    "        # Insert keys\n",
    "        for j in range(i):\n",
    "            hash_table.insert(keys[j], f\"value-{j}\")\n",
    "        \n",
    "        current_load = i / size\n",
    "        if current_load > max_load:\n",
    "            break\n",
    "            \n",
    "        load_factors.append(current_load)\n",
    "        search_times.append(measure_search_time(hash_table, keys[:i]))\n",
    "    \n",
    "    results[size] = (load_factors, search_times)"
   ]
  },
  {
   "cell_type": "code",
   "execution_count": 28,
   "metadata": {},
   "outputs": [
    {
     "data": {
      "text/plain": [
       "{500: ([0.2, 0.4, 0.6, 0.8],\n",
       "  [2.9087066650390624e-07,\n",
       "   2.6702880859375e-07,\n",
       "   2.6226043701171877e-07,\n",
       "   2.6702880859375e-07]),\n",
       " 1000: ([0.1, 0.2, 0.3, 0.4, 0.5, 0.6, 0.7, 0.8, 0.9],\n",
       "  [2.694129943847656e-07,\n",
       "   2.551078796386719e-07,\n",
       "   2.7179718017578123e-07,\n",
       "   2.694129943847656e-07,\n",
       "   2.7418136596679685e-07,\n",
       "   2.7179718017578123e-07,\n",
       "   2.9087066650390624e-07,\n",
       "   4.482269287109375e-07,\n",
       "   2.9087066650390624e-07]),\n",
       " 2000: ([0.05, 0.1, 0.15, 0.2, 0.25, 0.3, 0.35, 0.4, 0.45],\n",
       "  [4.839897155761718e-07,\n",
       "   4.911422729492188e-07,\n",
       "   5.006790161132813e-07,\n",
       "   5.054473876953125e-07,\n",
       "   5.459785461425781e-07,\n",
       "   5.125999450683594e-07,\n",
       "   3.1709671020507814e-07,\n",
       "   2.980232238769531e-07,\n",
       "   3.0040740966796875e-07])}"
      ]
     },
     "execution_count": 28,
     "metadata": {},
     "output_type": "execute_result"
    }
   ],
   "source": [
    "results"
   ]
  },
  {
   "cell_type": "code",
   "execution_count": 25,
   "metadata": {},
   "outputs": [
    {
     "data": {
      "image/png": "[encoded data removed]",
      "text/plain": [
       "<Figure size 1000x600 with 1 Axes>"
      ]
     },
     "metadata": {},
     "output_type": "display_data"
    }
   ],
   "source": [
    "# plotting\n",
    "plt.figure(figsize=(10, 6))\n",
    "for size, (load_factors, search_times) in results.items():\n",
    "    plt.plot(load_factors, search_times, marker='o', label=f\"Table Size: {size}\")\n",
    "plt.xlabel(\"Load Factor\")\n",
    "plt.ylabel(\"Average Search Time (seconds)\")\n",
    "plt.title(\"Load Factor vs. Average Search Time\")\n",
    "plt.legend()\n",
    "plt.grid(True)\n",
    "plt.show()"
   ]
  },
  {
   "cell_type": "markdown",
   "metadata": {},
   "source": [
    "## Compare search time across different distributions"
   ]
  },
  {
   "cell_type": "code",
   "execution_count": 29,
   "metadata": {},
   "outputs": [],
   "source": [
    "def analyze_key_distributions(table_size, load_factor):\n",
    "    \"\"\"Compare search time across different key distributions\"\"\"\n",
    "    distributions = {\n",
    "        \"uniform\": [random.randint(0, 10000) for _ in range(int(table_size * load_factor))],\n",
    "        \"skewed\": [random.randint(0, 100) for _ in range(int(table_size * load_factor))],\n",
    "        \"sequential\": list(range(int(table_size * load_factor)))\n",
    "    }\n",
    "    \n",
    "    results = {}\n",
    "    \n",
    "    for dist_name, keys in distributions.items():\n",
    "        hash_table = HashMap(size=table_size)\n",
    "        \n",
    "        # Insert keys\n",
    "        for i, key in enumerate(keys):\n",
    "            hash_table.insert(key, f\"value-{i}\")\n",
    "        \n",
    "        # Measure search time\n",
    "        results[dist_name] = measure_search_time(hash_table, keys)\n",
    "    \n",
    "    return results"
   ]
  },
  {
   "cell_type": "code",
   "execution_count": 30,
   "metadata": {},
   "outputs": [],
   "source": [
    "distribution_results = analyze_key_distributions(100, 0.7)"
   ]
  },
  {
   "cell_type": "code",
   "execution_count": 31,
   "metadata": {},
   "outputs": [
    {
     "data": {
      "image/png": "[encoded data removed]",
      "text/plain": [
       "<Figure size 1000x600 with 1 Axes>"
      ]
     },
     "metadata": {},
     "output_type": "display_data"
    }
   ],
   "source": [
    "distributions = list(distribution_results.keys())\n",
    "times = list(distribution_results.values())\n",
    "\n",
    "plt.figure(figsize=(10, 6))\n",
    "plt.bar(distributions, times)\n",
    "plt.xlabel(\"Key Distribution\")\n",
    "plt.ylabel(\"Average Search Time (seconds)\")\n",
    "plt.title(\"Search Time Across Different Key Distributions\")\n",
    "plt.grid(True, axis='y')\n",
    "plt.show()"
   ]
  },
  {
   "cell_type": "markdown",
   "metadata": {},
   "source": [
    "## Memory overhead analysis"
   ]
  },
  {
   "cell_type": "code",
   "execution_count": 43,
   "metadata": {},
   "outputs": [
    {
     "name": "stdout",
     "output_type": "stream",
     "text": [
      "{'avg_chain_length': 0.69, 'max_chain_length': 1}\n"
     ]
    }
   ],
   "source": [
    "print(ht.get_memory_stats())"
   ]
  },
  {
   "cell_type": "markdown",
   "metadata": {},
   "source": [
    "# Part 2 : Algorithm Implementation"
   ]
  },
  {
   "cell_type": "code",
   "execution_count": 32,
   "metadata": {},
   "outputs": [],
   "source": [
    "class Homework5:\n",
    "\n",
    "    def findMostFrequentElementUsingHashMap(self, nums:list) -> int:\n",
    "        # Handle empty input list case\n",
    "        if not nums:\n",
    "            return -1\n",
    "                \n",
    "        # Initialize our custom hash table\n",
    "        ht = HashMap(size=len(nums), hash_method=\"division\")\n",
    "        \n",
    "        # Count frequency of each element\n",
    "        for num in nums:\n",
    "            # Check if the element already exists in the hash table\n",
    "            count = ht.search(num)\n",
    "            if count is None:\n",
    "                ht.insert(num, 1)  # First occurrence\n",
    "            else:\n",
    "                ht.insert(num, count + 1)  # Increment count\n",
    "        \n",
    "        max_freq = 0\n",
    "        max_element = None\n",
    "        \n",
    "        # Find element with maximum frequency\n",
    "        for bucket in ht.table:\n",
    "            for key, freq in bucket:\n",
    "                # Update if current frequency is higher or\n",
    "                # if frequencies are equal but current element is larger\n",
    "                if freq > max_freq or (freq == max_freq and key > max_element):\n",
    "                    max_freq = freq\n",
    "                    max_element = key\n",
    "        \n",
    "        return max_element\n",
    "\n",
    "    def findMostFrequentElementUsingHeap(self,nums:list) -> int:\n",
    "        # Handle empty input list case\n",
    "        if not nums:\n",
    "            return -1\n",
    "        \n",
    "        freq_dict = {}\n",
    "        for num in nums:\n",
    "            freq_dict[num] = freq_dict.get(num, 0) + 1\n",
    "        \n",
    "        # Create a max heap (Python's heapq is a min heap, so we negate values)\n",
    "        # Format: (-frequency, -element) to get max frequency and max element for ties\n",
    "        heap = [(-freq, -num) for num, freq in freq_dict.items()]\n",
    "        heapq.heapify(heap)\n",
    "        \n",
    "        # The root of the heap will have the most frequent element\n",
    "        # (or the largest one in case of a tie)\n",
    "        most_frequent = -heap[0][1]\n",
    "        return most_frequent\n",
    "\n",
    "    def twoSumBruteForce(self, nums: list, target: int) -> list:\n",
    "        # Iterate through all pairs of indices\n",
    "        for i in range(len(nums)):\n",
    "            for j in range(i + 1, len(nums)):\n",
    "                if nums[i] + nums[j] == target:\n",
    "                    return [i, j]\n",
    "        return None\n",
    "\n",
    "    def twoSumHashTable(self, nums: list, target: int) -> list:\n",
    "        ht = HashMap(size=len(nums))\n",
    "        for i, num in enumerate(nums):\n",
    "            complement = target - num\n",
    "            complement_index = ht.search(complement)\n",
    "            if complement_index is not None:\n",
    "                return [complement_index, i]\n",
    "            ht.insert(num, i)\n",
    "        return None"
   ]
  },
  {
   "cell_type": "code",
   "execution_count": 33,
   "metadata": {},
   "outputs": [
    {
     "name": "stdout",
     "output_type": "stream",
     "text": [
      "RUNNING TEST CASES FOR MOST FREQUENT ELEMENT: \n",
      "Test Case 1 : PASSED\n",
      "Test Case 2 : PASSED\n",
      "Test Case 3 : PASSED\n",
      "Test Case 4 : PASSED\n",
      "Test Case 5 : PASSED\n",
      "Test Case 6 : PASSED\n",
      "Test Case 7 : PASSED\n",
      "Test Case 8 : PASSED\n",
      "Test Case 9 : PASSED\n",
      "Test Case 10 : PASSED\n",
      "Test Case 11 : PASSED\n",
      "Test Case 12 : PASSED\n",
      "Test Case 13 : PASSED\n",
      "Test Case 14 : PASSED\n",
      "Test Case 15 : PASSED\n",
      "Test Case 16 : PASSED\n",
      "Test Case 17 : PASSED\n",
      "Test Case 18 : PASSED\n",
      "Test Case 19 : PASSED\n",
      "Test Case 20 : PASSED\n",
      "Test Case 21 : PASSED\n",
      "Test Case 22 : PASSED\n",
      "Test Case 23 : PASSED\n",
      "Test Case 24 : PASSED\n",
      "Test Case 25 : PASSED\n",
      "Test Case 26 : PASSED\n",
      "\n",
      "\n",
      "RUNNING TEST CASES FOR TWO SUM PROBLEM:\n",
      "Test Case 1: PASSED\n",
      "Test Case 2: PASSED\n",
      "Test Case 3: PASSED\n",
      "Test Case 4: PASSED\n",
      "Test Case 5: PASSED\n",
      "Test Case 6: PASSED\n",
      "Test Case 7: PASSED\n",
      "Test Case 8: PASSED\n",
      "Test Case 9: PASSED\n",
      "Test Case 10: PASSED\n",
      "Test Case 11: PASSED\n",
      "Test Case 12: PASSED\n",
      "Test Case 13: PASSED\n",
      "Test Case 14: PASSED\n",
      "Test Case 15: PASSED\n",
      "Test Case 16: PASSED\n",
      "Test Case 17: PASSED\n",
      "Test Case 18: PASSED\n",
      "Test Case 19: PASSED\n",
      "Test Case 20: PASSED\n"
     ]
    }
   ],
   "source": [
    "if __name__==\"__main__\":\n",
    "    homework5  = Homework5()\n",
    "    \n",
    "    \n",
    "    \n",
    "    \n",
    "    \n",
    "    \n",
    "    testCasesforQuestion2 = []\n",
    "    try:\n",
    "        with open('testcases1.csv','r') as file:\n",
    "            testCases = csv.reader(file)\n",
    "            for row in testCases:\n",
    "                testCasesforQuestion2.append(row)\n",
    "    except FileNotFoundError:\n",
    "        print(\"File Not Found\")\n",
    "    \n",
    "    #Running Test Cases for Question 1\n",
    "    print(\"RUNNING TEST CASES FOR MOST FREQUENT ELEMENT: \")\n",
    "    \n",
    "    for row , (inputValue,expectedOutput) in enumerate(testCasesforQuestion2,start=1):\n",
    "        if(inputValue==\"\" and expectedOutput==\"-1\"):\n",
    "            inputValue=[]\n",
    "            expectedOutput=-1\n",
    "        else:\n",
    "            inputValue=inputValue.split(\" \")\n",
    "            inputValue = [int(i) for i in inputValue]\n",
    "            expectedOutput=int(expectedOutput)\n",
    "        actualOutputForHashMap = homework5.findMostFrequentElementUsingHashMap(inputValue)\n",
    "        actualOutputForHeap = homework5.findMostFrequentElementUsingHeap(inputValue)\n",
    "        if(actualOutputForHashMap == expectedOutput and actualOutputForHeap == expectedOutput):\n",
    "            print(f\"Test Case {row} : PASSED\")\n",
    "        else:\n",
    "             print(f\"Test Case {row}: Failed (Expected : {expectedOutput}, Actual For Hash Map: {actualOutputForHashMap}, Actual for Heap: {actualOutputForHeap})\")\n",
    "    print(\"\\n\")\n",
    "    \n",
    "    \n",
    "    \n",
    "    \n",
    "    \n",
    "    \n",
    "    \n",
    "    \n",
    "    \n",
    "    \n",
    "\n",
    "\n",
    "\n",
    "\n",
    "    testCasesForQuestion2 = []\n",
    "    try:\n",
    "        with open('testcases2.csv', 'r') as file:\n",
    "            testCases = csv.reader(file)\n",
    "            for row in testCases:\n",
    "                testCasesForQuestion2.append(row)\n",
    "    except FileNotFoundError:\n",
    "        print(\"File Not Found\")\n",
    "    \n",
    "    print(\"RUNNING TEST CASES FOR TWO SUM PROBLEM:\")\n",
    "\n",
    "    for row, (inputStr, targetStr, expectedStr) in enumerate(testCasesForQuestion2, start=1):\n",
    "        # If the input string is empty, use an empty list.\n",
    "        if inputStr == \"\":\n",
    "            nums = []\n",
    "        else:\n",
    "            nums = list(map(int, inputStr.split(\" \")))\n",
    "        target = int(targetStr)\n",
    "        expected = list(map(int, expectedStr.split(\" \")))\n",
    "\n",
    "        result_brute = homework5.twoSumBruteForce(nums, target)\n",
    "        result_hash = homework5.twoSumHashTable(nums, target)\n",
    "\n",
    "        if result_brute == expected and result_hash == expected:\n",
    "            print(f\"Test Case {row}: PASSED\")\n",
    "        else:\n",
    "            print(f\"Test Case {row}: FAILED\")\n",
    "            print(f\"  Input: {nums}\")\n",
    "            print(f\"  Target: {target}\")\n",
    "            print(f\"  Expected: {expected}\")\n",
    "            print(f\"  Brute Force Output: {result_brute}\")\n",
    "            print(f\"  Hash Table Output: {result_hash}\")"
   ]
  }
 ],
 "metadata": {
  "accelerator": "GPU",
  "colab": {
   "collapsed_sections": [
    "-od4VQ4S6h8C",
    "yHV2bxgB6BNs",
    "rae7dQKZ6I4L",
    "CgrQw7TA6aWu"
   ],
   "gpuType": "T4",
   "provenance": []
  },
  "kernelspec": {
   "display_name": "Python 3",
   "name": "python3"
  },
  "language_info": {
   "codemirror_mode": {
    "name": "ipython",
    "version": 3
   },
   "file_extension": ".py",
   "mimetype": "text/x-python",
   "name": "python",
   "nbconvert_exporter": "python",
   "pygments_lexer": "ipython3",
   "version": "3.12.1"
  }
 },
 "nbformat": 4,
 "nbformat_minor": 0
}
